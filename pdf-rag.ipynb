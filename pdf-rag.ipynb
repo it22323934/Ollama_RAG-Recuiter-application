{
 "cells": [
  {
   "cell_type": "code",
   "execution_count": 6,
   "metadata": {},
   "outputs": [
    {
     "name": "stdout",
     "output_type": "stream",
     "text": [
      "done loading....\n",
      "Beneficial Ownership Information Report\n",
      "\n",
      "Filing Instructions\n",
      "\n",
      "Financial Crimes Enforcement Network\n",
      "\n",
      "\n"
     ]
    }
   ],
   "source": [
    "## 1. Ingest PDF Files\n",
    "# 2. Extract Text from PDF Files and split into small chunks\n",
    "# 3. Send the chunks to the embedding model\n",
    "# 4. Save the embeddings to a vector database\n",
    "# 5. Perform similarity search on the vector database to find similar documents\n",
    "# 6. retrieve the similar documents and present them to the user\n",
    "## run pip install -r requirements.txt to install the required packages\n",
    "\n",
    "from langchain_community.document_loaders import UnstructuredPDFLoader\n",
    "from langchain_community.document_loaders import OnlinePDFLoader\n",
    "\n",
    "doc_path = \"./data/BOI.pdf\"\n",
    "model = \"llama3.2\"\n",
    "\n",
    "# Local PDF file uploads\n",
    "if doc_path:\n",
    "    loader = UnstructuredPDFLoader(file_path=doc_path)\n",
    "    data = loader.load()\n",
    "    print(\"done loading....\")\n",
    "else:\n",
    "    print(\"Upload a PDF file\")\n",
    "\n",
    "    # Preview first page\n",
    "content = data[0].page_content\n",
    "print(content[:100])"
   ]
  },
  {
   "cell_type": "code",
   "execution_count": 7,
   "metadata": {},
   "outputs": [
    {
     "name": "stdout",
     "output_type": "stream",
     "text": [
      "done splitting....\n"
     ]
    }
   ],
   "source": [
    "# ==== Extract Text from PDF Files and Split into Small Chunks ====\n",
    "\n",
    "from langchain_ollama import OllamaEmbeddings\n",
    "from langchain_text_splitters import RecursiveCharacterTextSplitter\n",
    "from langchain_community.vectorstores import Chroma\n",
    "\n",
    "text_splitter= RecursiveCharacterTextSplitter(chunk_size=1200,chunk_overlap=300)\n",
    "chunks=text_splitter.split_documents(data)\n",
    "print(\"done splitting....\")\n",
    "\n",
    "# print(f\"Number of chunks: {len(chunks)}\")\n",
    "# print(f\"Example chunk: {chunks[0]}\")"
   ]
  },
  {
   "cell_type": "code",
   "execution_count": 8,
   "metadata": {},
   "outputs": [
    {
     "name": "stdout",
     "output_type": "stream",
     "text": [
      "done embedding....\n"
     ]
    }
   ],
   "source": [
    "# Add to vector database\n",
    "import ollama\n",
    "\n",
    "embedding_model=\"mxbai-embed-large\"\n",
    "\n",
    "vector_data=Chroma.from_documents(\n",
    "    documents=chunks,\n",
    "    embedding=OllamaEmbeddings(model=embedding_model),\n",
    "    collection_name=\"simple-rag\"\n",
    ")\n",
    "\n",
    "print(\"done embedding....\")"
   ]
  },
  {
   "cell_type": "code",
   "execution_count": 9,
   "metadata": {},
   "outputs": [],
   "source": [
    "# Reterieval\n",
    "from langchain.prompts import ChatPromptTemplate, PromptTemplate\n",
    "from langchain_core.output_parsers import StrOutputParser\n",
    "\n",
    "from langchain_ollama import ChatOllama\n",
    "\n",
    "from langchain_core.runnables import RunnablePassthrough\n",
    "from langchain.retrievers.multi_query import MultiQueryRetriever\n",
    "\n",
    "# Set up our model for use\n",
    "llm = ChatOllama(model=model)\n",
    "\n",
    "# a simple technique to generate multiple questions from a single question and then retrieve documents\n",
    "# based on those questions, getting the best of both worlds.\n",
    "QUERY_PROMPT = PromptTemplate(\n",
    "    input_variables=[\"question\"],\n",
    "    template=\"\"\"You are an AI language model assistant. Your task is to generate five\n",
    "    different versions of the given user question to retrieve relevant documents from\n",
    "    a vector database. By generating multiple perspectives on the user question, your\n",
    "    goal is to help the user overcome some of the limitations of the distance-based\n",
    "    similarity search. Provide these alternative questions separated by newlines.\n",
    "    Original question: {question}\"\"\",\n",
    ")\n",
    "\n",
    "\n",
    "retriever= MultiQueryRetriever.from_llm(\n",
    "    vector_data.as_retriever(),llm,prompt=QUERY_PROMPT\n",
    ")\n"
   ]
  },
  {
   "cell_type": "code",
   "execution_count": 10,
   "metadata": {},
   "outputs": [
    {
     "name": "stdout",
     "output_type": "stream",
     "text": [
      "Based on the provided text, here are some key points that a business owner should be aware of:\n",
      "\n",
      "1. **Identifying Document Requirements**: Businesses must attach identifying document images to their BOIRs (Beneficial Ownership Information Reports).\n",
      "2. **Prohibited Words and Phrases**: Certain words and phrases, such as \"AKA\", \"DBA\", \"NMN\", \"NONE\", and \"NOT APPLICABLE\", should not be used in text fields of the BOIR.\n",
      "3. **Business Address vs. Residential Address**: Business owners must select either \"24a\" (business address) or \"24b\" (residential address) when reporting their current address on the BOIR.\n",
      "4. **Date of Birth Format**: The date of birth should be reported in the format MM/DD/YYYY, with month, day, and year provided.\n",
      "5. **Middle Name and Suffix Requirements**: Business owners must report their middle name and suffix (if applicable) for the company applicant's legal name.\n",
      "6. **Last Name and First Name Requirements**: Business owners must report the company applicant's last name and first name, respectively.\n",
      "7. **Suffix Requirements**: Business owners must report the company applicant's suffix (if applicable).\n",
      "8. **Image Attachment Size Limitation**: The image attachment to a BOIR cannot be larger than four megabytes.\n",
      "\n",
      "These points should help business owners understand their responsibilities when filing beneficial ownership information reports and ensure compliance with regulatory requirements.\n"
     ]
    }
   ],
   "source": [
    "# RAG prompt\n",
    "template = \"\"\"Answer the question based ONLY on the following context:\n",
    "{context}\n",
    "Question: {question}\n",
    "\"\"\"\n",
    "\n",
    "prompt=ChatPromptTemplate.from_template(template)\n",
    "\n",
    "chain=(\n",
    "    {\"context\":retriever,\"question\":RunnablePassthrough()}\n",
    "    | prompt\n",
    "    | llm\n",
    "    | StrOutputParser()\n",
    ")\n",
    "\n",
    "\n",
    "# res = chain.invoke(input=(\"what is the document about?\",))\n",
    "res = chain.invoke(\n",
    "    input=(\"what are the main points as a business owner I should be aware of?\",)\n",
    ")\n",
    "# res = chain.invoke(input=(\"how to report BOI?\",))\n",
    "\n",
    "print(res)\n"
   ]
  }
 ],
 "metadata": {
  "kernelspec": {
   "display_name": "global",
   "language": "python",
   "name": "python3"
  },
  "language_info": {
   "codemirror_mode": {
    "name": "ipython",
    "version": 3
   },
   "file_extension": ".py",
   "mimetype": "text/x-python",
   "name": "python",
   "nbconvert_exporter": "python",
   "pygments_lexer": "ipython3",
   "version": "3.12.4"
  }
 },
 "nbformat": 4,
 "nbformat_minor": 2
}
